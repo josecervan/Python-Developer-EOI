{
  "nbformat": 4,
  "nbformat_minor": 0,
  "metadata": {
    "kernelspec": {
      "name": "python3",
      "display_name": "Python 3"
    },
    "colab": {
      "name": "twitter-sentiment-alumno.ipynb",
      "provenance": [],
      "collapsed_sections": [
        "i1H5PvatjLAI"
      ],
      "toc_visible": true
    }
  },
  "cells": [
    {
      "cell_type": "markdown",
      "metadata": {
        "id": "i1H5PvatjLAI"
      },
      "source": [
        "# Paso 1: Limpieza de tweets (opcional)"
      ]
    },
    {
      "cell_type": "code",
      "metadata": {
        "id": "fTkh8tgFjLAJ"
      },
      "source": [
        "import tweepy\n",
        "import pandas as pd\n",
        "from textblob import TextBlob \n",
        "import re \n",
        "\n",
        "##SENTIMENT ANALYSIS\n",
        "\n",
        "def clean_tweet_text(tweet): \n",
        "        ''' \n",
        "        Utility function to clean tweet text by removing links, special characters \n",
        "        using simple regex statements. \n",
        "        '''\n",
        "        return ' '.join(re.sub(\"(@[A-Za-z0-9]+)|([^0-9A-Za-z \\t])|(\\w+:\\/\\/\\S+)\", \" \", tweet).split())\n",
        "  \n"
      ],
      "execution_count": null,
      "outputs": []
    },
    {
      "cell_type": "markdown",
      "metadata": {
        "id": "uXTNhYxvjLAO"
      },
      "source": [
        "# Paso 2: Función de análisis de sentimiento para textos en inglés\n",
        "\n",
        "Con la función de la librería TextBlob *sentiment.polarity* podemos obtener un número asociado al sentimiento de cada tweet. Esto se obtiene comparándolo de forma interna con un corpus de sentimiento. \n",
        "\n",
        "Completa el if statement con la polaridad *neutral* y *negative*."
      ]
    },
    {
      "cell_type": "code",
      "metadata": {
        "id": "UrD-BLsUjLAP"
      },
      "source": [
        "def get_tweet_sentiment(tweet): \n",
        "        ''' \n",
        "        Utility function to classify sentiment of passed tweet \n",
        "        using textblob's sentiment method \n",
        "        '''\n",
        "        # create TextBlob object of passed tweet text \n",
        "        analysis = TextBlob(tweet) \n",
        "        # set sentiment \n",
        "        if analysis.sentiment.polarity > 0: \n",
        "            return 'positive'\n",
        "       #Completa el if statement con la polaridad neutral y negative.\n",
        "        elif analysis.sentiment.polarity == 0: \n",
        "            return 'neutral'\n",
        "        else: \n",
        "            return 'negative'\n",
        "        "
      ],
      "execution_count": null,
      "outputs": []
    },
    {
      "cell_type": "markdown",
      "metadata": {
        "id": "SqVOWKAijLAR"
      },
      "source": [
        "# Paso 3: Cargar csv y procesar sentiment "
      ]
    },
    {
      "cell_type": "code",
      "metadata": {
        "id": "6KyBm1ICjLAS",
        "outputId": "4f7ec31a-a787-4d7c-b570-80e1d0791c79",
        "colab": {
          "base_uri": "https://localhost:8080/",
          "height": 190
        }
      },
      "source": [
        "if __name__ == \"__main__\": \n",
        "    \n",
        "    #cargamos los datos del csv a fetched_tweets\n",
        "    #fetched_tweets = pd.read_csv(\"_________.csv\", header=0, usecols=['Text'])\n",
        "    fetched_tweets = pd.read_csv(\"_____.csv\")\n",
        "  \n",
        "    print(fetched_tweets.head())\n",
        "\n",
        "    try:\n",
        "        # relacionando text con sentiment \n",
        "        sentiment_sum = {'text': [], 'sentiment': []}  \n",
        "\n",
        "        #iteramos la columna para extraer el sentimiento de cada tweet\n",
        "        for index, tweet in fetched_tweets.iterrows(): \n",
        "\n",
        "                parsed_tweet = {}\n",
        "                \n",
        "                # almacenamos texto original\n",
        "                parsed_tweet['text'] =  tweet['Tweet'] #coge sólo la columna 'Text'\n",
        "                \n",
        "                # almacenamos sentimiento \n",
        "                parsed_tweet['sentiment'] = get_tweet_sentiment(parsed_tweet['text'])  #llama a la función get_tweet_sentiment\n",
        "                \n",
        "                #guarda en las listas sentiment_sum cada uno de los valores de parsed_tweet\n",
        "\n",
        "                sentiment_sum['text'].append(........)\n",
        "                sentiment_sum['sentiment'].append(...........)\n",
        "\n",
        "    except tweepy.TweepError as e: \n",
        "        print(\"Error : \" + str(e))     \n",
        "\n",
        "    #ahora cada uno de nuestros tweets tiene una polaridad asignada\n",
        "    print(sentiment_sum)"
      ],
      "execution_count": null,
      "outputs": [
        {
          "output_type": "stream",
          "text": [
            "            Created_at  ...                                              Tweet\n",
            "0           Created_at  ...                                              Tweet\n",
            "1           Created_at  ...                                              Tweet\n",
            "2  2020-04-28 22:37:22  ...  No se porque seguís intentando entender la #De...\n",
            "3  2020-04-28 22:37:20  ...  #Desescalada\\n\\n#FASE6 MANIFESTACIÓN NACIONAL ...\n",
            "4  2020-04-28 22:37:10  ...  Recordamos que en la fase 1 no estará permitid...\n",
            "\n",
            "[5 rows x 4 columns]\n",
            "{'text': ['Tweet', 'Tweet', 'No se porque seguís intentando entender la #Desescalada cuando todos los fin de año os explican las campanadas para… https://t.co/9HB3OvSal2', '#Desescalada\\n\\n#FASE6 MANIFESTACIÓN NACIONAL CONTRA EL ACTUAL GOBIERNO SOCIALCOMUNISTA QUE HA TRAÍDO ESTA CRISIS A L… https://t.co/3FGaK3Zb4i', 'Recordamos que en la fase 1 no estará permitido ir a teletrabajar a casa de tu amante.\\n#desescalada #boe #medidas… https://t.co/JFbtaijtDD', 'El Gobierno aprueba un Plan de #desescalada gradual, asimétrica y coordinada para recuperar la vida cotidiana y la… https://t.co/F9IVN6IEoX', 'No me he enterado muy bien de lo de la #desescalada cuando se puede quedar pa follar entonces??', '@IgualadaPP @Gatopar59639092 No agradecéis lo que las grandes fortunas hacen por vosotros. \\n\\n¿Alguna pregunta más s… https://t.co/CnxUMXXZoN', 'No consumiré más @Calidad_Pascual @Bezoya @Naturgy @argal_ga mientras mantengan publicidad en @telecincoes… https://t.co/EFNfvU0feE', 'PUTO GOBIERNO CRIMINAL! \\n\\n#Desescalada https://t.co/ASVUlXP7B0', 'Madrid una vez terminada la #Desescalada. https://t.co/4iOyAFrIvU', 'Supongo que mucha gente estará pensando en cuán absurdo resulta poder ir a un funeral a otra provincia (los muertos… https://t.co/nhS6V82JSM', 'Fase 5 : Ya sabes...\\n#Desescalada \\n#desconfinamiento', 'Aki esperando a que llegue la fase 4... #Desescalada #DesescaladaResponsable https://t.co/DNY976PGTF', '¿Alguien me puede explicar si los 2 padres empiezan a trabajar y los colegios están cerrados ¿con quien dejamos a l… https://t.co/l3lexcUVpC', 'Encuentros en la tercera fase #Desescalada', 'Pues eso, iremos al bar, siempre que no sea con familiares. O algo así...\\n\\n#Desescalada #COVID19 #Fases', 'Me encanta los hoteles podrán abrir,pero los clientes no podrán viajar,cada día mejor con este gobierno #Desescalada', 'Es muy curioso como personas que estamos totalmente solas desde hace 50 días en mi caso somos las que más difícil v… https://t.co/PVxwW01GGd', '@el_pais Mire @sanchezcastejon aunque me tiene harto le voy a dar un consejo. Despida a los expertos. Si en la fase… https://t.co/mgQeOlGZOk', 'La #Desescalada según TESTIGO DE CARGO (Billy Wilder, 1957) https://t.co/J8ccPzl4Ht', '¿Y con esto de la #Desescalada asimétrica, en qué fase habrán vistas (no esenciales) y concis? Y sobre todo, lo más… https://t.co/NHnz62Ij09', 'Sospecho que la “nueva normalidad” estaba prevista desde hace mucho tiempo por gente como Soros...\\n...y no va a ten… https://t.co/oJnNjH4iw9', 'Esperando a ver cuántos expertos y doctores en #Desescalada salen del facherío pepero y voxmitivo.', 'Estoy pensando en lo que ha dicho hoy Pedro Sánchez y en lo de los ovnis de hace un par de días y mira, lo he visto… https://t.co/7RWUXvwU3l', 'Ofú, menos mal que el 15 de mayo es festivo.  \\n#Desescalada \\n#fases', 'Estoy pensando en lo que ha dicho hoy Pedro Sánchez y en lo de los ovnis de hace un par de días y mira, lo he visto… https://t.co/FznRjiEYYu', 'Vespre de doble sessió: \\n\\n20:00h - \"DESENCUENTROS A CADA FASE\"\\n22:00h - \"PROVINCIAS DE UN DIOS MENOR\"\\n\\nEstic per se… https://t.co/oRrxccX4nz', 'Me hace falta una caja de herramientas. #Desescalada', '#DistanciaSocial     x    EL ROTO 29A\\n\\n#Desescalada \\n#FelizMiercoles \\n#Portada #Portadas #EnPOrtada https://t.co/toLZFCvCvZ', 'En la fase 1 abrirán las terrazas de los bares un 30%. Y en la fase 2 los interiores de los bares al 50%. Hasta aqu… https://t.co/OK0r4kb68y', '-¿Te ha quedado claro lo de la #desescalada?\\n-Sí\\n-¿Y cómo funciona?\\n-Sí', 'Alguna \"guía\" clara de desconfinamiento??\\nEl 4 se puede ya salir toda la familia que convive junta? Se sigue limita… https://t.co/P38WKCv6Pl', '🇫🇷 #Desescalada \\n🇩🇪 #Desescalada \\n🇮🇹 #Desescalada \\n🇬🇧 #Desescalada \\n🇪🇸 En un país donde el Presidente te dice que A… https://t.co/3NybvFfE9e', 'con el plan de #desescalada de Sánchez por provincias el Leganés debería viajar a otros países de Europa… https://t.co/LQCyTfjwir', 'Un chiste bueno:\\n¿Que hace un arbitro en el baño?\\nexpulsar a Kaka\\n😂 😂 😂 😂 \\n#TierraDeNadie10 #MaratonESC2006… https://t.co/qnQPH4UaKl', '¿Alguien me puede explicar si en la fase 1 solo se puede servir en una terraza de bar y en el interior no? #Desescalada', '@ranoflauta @aajimcas #Desescalada Suena a excusa de quien lo ha hecho mal. De cero muertos a 24.000 hay mucha dist… https://t.co/xIOLNPM2l4', 'Entonces, los encuentros ¿En la Tercera Fase?\\n\\n(lo siento, alguien tenía que hacerlo)\\n\\n#AloPresidente #COVID19… https://t.co/s20eLWjjvl', 'Esta #Desescalada ni es, ni debe, ni puede ser únicamente una desescalada económica.\\nNecesitamos a nuestras familia… https://t.co/35XVvbMh2y', 'Encuentros en la tercera fase o será la primera fase o la menos la primera si la segunda no va bien, pague los erte… https://t.co/cHdwDlsEgT', '#Desescalada Mucho queraros de la desescalada pero al final os va a coger el toro con una montaña de ropa sucia, ot… https://t.co/fOpgQrCitP', 'La #desescalada de la hostelería pinta de lujo... Pienso en esa gente que se pide una caña y se apalanca 3 horas en… https://t.co/IZooqNoooX', '#Desescalada porque nuestro amor es como una joya que un ladrón robó', '140 millones de euros para contratar futbolistas , pero no habían respiradores suficientes .... \\nLas prioridades en… https://t.co/6zthSxH7Lb', '¡Empieza la FASE 0 de la #Desescalada! | #HDLive3 | JoelHD https://t.co/agV2bNZCA3', 'Y con todo esto... donde estan los test masivos y toda la protección necesaria para cada persona? #Desescalada… https://t.co/JycVYmq0nV', '@sanchezcastejon Pues no se si me ha quedado muy claro...\\n\\n¿Por dónde dicen que es la #Desescalada ? https://t.co/ylRsS4XKMf', 'Ya lo predijo Steven Spielberg\\n#Desescalada #COVID19 #coronavirus #Ovnis #ufo2020 #AlienExist #fases https://t.co/j0LFGvk9e2', 'Creo que el Gobierno de España se ha metido en un berenjenal. Ha diseñado una #Desescalada que implica extensión de… https://t.co/tqTMc88Fx7', '#Desescalada \\nTest masivos significa tener capacidad para hacer test a las personas cercanas de cualquier nuevo con… https://t.co/lCE97c4Tyl'], 'sentiment': ['neutral', 'neutral', 'neutral', 'neutral', 'neutral', 'neutral', 'neutral', 'neutral', 'neutral', 'negative', 'neutral', 'neutral', 'neutral', 'neutral', 'neutral', 'neutral', 'neutral', 'neutral', 'neutral', 'neutral', 'neutral', 'neutral', 'neutral', 'neutral', 'neutral', 'neutral', 'neutral', 'neutral', 'neutral', 'neutral', 'neutral', 'neutral', 'neutral', 'neutral', 'neutral', 'neutral', 'neutral', 'neutral', 'neutral', 'neutral', 'neutral', 'neutral', 'neutral', 'neutral', 'neutral', 'neutral', 'neutral', 'neutral', 'neutral', 'neutral', 'neutral']}\n"
          ],
          "name": "stdout"
        }
      ]
    },
    {
      "cell_type": "markdown",
      "metadata": {
        "id": "Z0JrK_cajLAV"
      },
      "source": [
        "# Paso 4: Copiar sentiment en CSV"
      ]
    },
    {
      "cell_type": "code",
      "metadata": {
        "id": "6bGvGwr8jLAV"
      },
      "source": [
        "    df2 = fetched_tweets.assign(sentiment = sentiment_sum['sentiment']) \n",
        "    df2.to_csv(path_or_buf = \".csv\", encoding=\"utf-8\")"
      ],
      "execution_count": null,
      "outputs": []
    },
    {
      "cell_type": "markdown",
      "metadata": {
        "id": "eruqowpF6ZI7"
      },
      "source": [
        "# Paso 5: Análisis del sentimiento en castellano con MeaningCloud"
      ]
    },
    {
      "cell_type": "markdown",
      "metadata": {
        "id": "YPNDFnlv7gUR"
      },
      "source": [
        "* Crea una cuenta para tener el acceso a su API\n",
        "https://www.meaningcloud.com/developer/create-account\n",
        "\n",
        "* En esta sección encontrarás en API key\n",
        "https://www.meaningcloud.com/developer/account/subscriptions\n",
        "\n",
        "* En el siguiente enlace encontrarás la documentación de Sentiment Analysis\n",
        "https://www.meaningcloud.com/developer/sentiment-analysis/doc/2.1/response\n",
        "\n",
        "El primer paso será instalar la librería con pip"
      ]
    },
    {
      "cell_type": "code",
      "metadata": {
        "id": "37-wPmeD7Ykk",
        "outputId": "16f410dd-7ec5-4247-d3d5-427d14a43d7f",
        "colab": {
          "base_uri": "https://localhost:8080/",
          "height": 343
        }
      },
      "source": [
        "!pip install meaningCloud-python"
      ],
      "execution_count": null,
      "outputs": [
        {
          "output_type": "stream",
          "text": [
            "Collecting meaningCloud-python\n",
            "  Downloading https://files.pythonhosted.org/packages/66/e9/4db96ee81f815db0636134c280fe5a13ac6a85e025c4128ef14af6cacc51/MeaningCloud_python-1.2.2-py2.py3-none-any.whl\n",
            "Requirement already satisfied: requests[security] in /usr/local/lib/python3.6/dist-packages (from meaningCloud-python) (2.23.0)\n",
            "Requirement already satisfied: certifi>=2017.4.17 in /usr/local/lib/python3.6/dist-packages (from requests[security]->meaningCloud-python) (2020.4.5.1)\n",
            "Requirement already satisfied: idna<3,>=2.5 in /usr/local/lib/python3.6/dist-packages (from requests[security]->meaningCloud-python) (2.9)\n",
            "Requirement already satisfied: urllib3!=1.25.0,!=1.25.1,<1.26,>=1.21.1 in /usr/local/lib/python3.6/dist-packages (from requests[security]->meaningCloud-python) (1.24.3)\n",
            "Requirement already satisfied: chardet<4,>=3.0.2 in /usr/local/lib/python3.6/dist-packages (from requests[security]->meaningCloud-python) (3.0.4)\n",
            "Collecting pyOpenSSL>=0.14; extra == \"security\"\n",
            "\u001b[?25l  Downloading https://files.pythonhosted.org/packages/9e/de/f8342b68fa9e981d348039954657bdf681b2ab93de27443be51865ffa310/pyOpenSSL-19.1.0-py2.py3-none-any.whl (53kB)\n",
            "\u001b[K     |████████████████████████████████| 61kB 2.8MB/s \n",
            "\u001b[?25hCollecting cryptography>=1.3.4; extra == \"security\"\n",
            "\u001b[?25l  Downloading https://files.pythonhosted.org/packages/3c/04/686efee2dcdd25aecf357992e7d9362f443eb182ecd623f882bc9f7a6bba/cryptography-2.9.2-cp35-abi3-manylinux2010_x86_64.whl (2.7MB)\n",
            "\u001b[K     |████████████████████████████████| 2.7MB 7.6MB/s \n",
            "\u001b[?25hRequirement already satisfied: six>=1.5.2 in /usr/local/lib/python3.6/dist-packages (from pyOpenSSL>=0.14; extra == \"security\"->requests[security]->meaningCloud-python) (1.12.0)\n",
            "Requirement already satisfied: cffi!=1.11.3,>=1.8 in /usr/local/lib/python3.6/dist-packages (from cryptography>=1.3.4; extra == \"security\"->requests[security]->meaningCloud-python) (1.14.0)\n",
            "Requirement already satisfied: pycparser in /usr/local/lib/python3.6/dist-packages (from cffi!=1.11.3,>=1.8->cryptography>=1.3.4; extra == \"security\"->requests[security]->meaningCloud-python) (2.20)\n",
            "Installing collected packages: meaningCloud-python, cryptography, pyOpenSSL\n",
            "Successfully installed cryptography-2.9.2 meaningCloud-python-1.2.2 pyOpenSSL-19.1.0\n"
          ],
          "name": "stdout"
        }
      ]
    },
    {
      "cell_type": "markdown",
      "metadata": {
        "id": "FgrFMvJ-7p4v"
      },
      "source": [
        "\n",
        "Navegando en su API llegamos al Github donde tienen alojados ejemplos de llamadas a la API en Python\n"
      ]
    },
    {
      "cell_type": "code",
      "metadata": {
        "id": "M7ZXOi-V7v_J",
        "outputId": "c65536ba-2d61-4392-e448-87292ba51445",
        "colab": {
          "base_uri": "https://localhost:8080/",
          "height": 51
        }
      },
      "source": [
        "#Credits to MeaningCloud Support Team\n",
        "\n",
        "import sys\n",
        "import meaningcloud\n",
        "\n",
        "model = 'IAB_en'\n",
        "\n",
        "license_key = ''\n",
        "\n",
        "#text = 'Me encantan los macarrones de mi madre en Madrid.'\n",
        "\n",
        "text = 'London is a very nice city but I also love Madrid.'\n",
        "\n",
        " \n",
        "try: \n",
        "\n",
        "    # SENTIMENT API CALL\n",
        " \n",
        "    sentiment_response = meaningcloud.SentimentResponse(\n",
        "    meaningcloud.SentimentRequest(license_key, lang='en', txt=text, txtf='plain').sendReq())\n",
        "    \n",
        "    #full JSON sentiment_response.getResponse()\n",
        "\n",
        "    if sentiment_response.isSuccessful():\n",
        "      print(\"\\tSentiment detected: \"+sentiment_response.getGlobalScoreTag()+\"\\n\")\n",
        "  \n",
        "\n",
        "except ValueError:\n",
        "    e = sys.exc_info()[0]\n",
        "    print(\"\\nException: \" + str(e)) \n"
      ],
      "execution_count": null,
      "outputs": [
        {
          "output_type": "stream",
          "text": [
            "\tSentiment detected: P+\n",
            "\n"
          ],
          "name": "stdout"
        }
      ]
    },
    {
      "cell_type": "code",
      "metadata": {
        "id": "QnKb5js1Ptwg",
        "outputId": "4d65ebde-ab64-406e-e674-0072f4d466a8",
        "colab": {
          "base_uri": "https://localhost:8080/",
          "height": 1000
        }
      },
      "source": [
        "    #full JSON \n",
        "    sentiment_response.getResponse()\n"
      ],
      "execution_count": null,
      "outputs": [
        {
          "output_type": "execute_result",
          "data": {
            "text/plain": [
              "{'agreement': 'AGREEMENT',\n",
              " 'confidence': '98',\n",
              " 'irony': 'NONIRONIC',\n",
              " 'model': 'general_en',\n",
              " 'score_tag': 'P+',\n",
              " 'sentence_list': [{'agreement': 'AGREEMENT',\n",
              "   'bop': 'y',\n",
              "   'confidence': '98',\n",
              "   'endp': '49',\n",
              "   'inip': '0',\n",
              "   'score_tag': 'P+',\n",
              "   'segment_list': [{'agreement': 'AGREEMENT',\n",
              "     'confidence': '98',\n",
              "     'endp': '25',\n",
              "     'inip': '0',\n",
              "     'polarity_term_list': [{'confidence': '98',\n",
              "       'endp': '20',\n",
              "       'inip': '17',\n",
              "       'score_tag': 'P+',\n",
              "       'sentimented_concept_list': [{'endp': '25',\n",
              "         'form': 'city',\n",
              "         'id': '817857ee40',\n",
              "         'inip': '22',\n",
              "         'score_tag': 'P+',\n",
              "         'type': 'Top>Location>GeoPoliticalEntity>City',\n",
              "         'variant': 'city'}],\n",
              "       'sentimented_entity_list': [{'endp': '5',\n",
              "         'form': 'London',\n",
              "         'id': '01d0d69c7d',\n",
              "         'inip': '0',\n",
              "         'score_tag': 'P+',\n",
              "         'type': 'Top>Location>GeoPoliticalEntity>City',\n",
              "         'variant': 'London'}],\n",
              "       'text': '(very) nice'}],\n",
              "     'score_tag': 'P+',\n",
              "     'segment_type': 'main',\n",
              "     'text': 'London is a very nice city'},\n",
              "    {'agreement': 'AGREEMENT',\n",
              "     'confidence': '100',\n",
              "     'endp': '48',\n",
              "     'inip': '31',\n",
              "     'polarity_term_list': [{'confidence': '100',\n",
              "       'endp': '41',\n",
              "       'inip': '38',\n",
              "       'score_tag': 'P+',\n",
              "       'sentimented_entity_list': [{'endp': '48',\n",
              "         'form': 'Madrid',\n",
              "         'id': '3d0a16c68d',\n",
              "         'inip': '43',\n",
              "         'score_tag': 'P+',\n",
              "         'type': 'Top>Location>GeoPoliticalEntity>City',\n",
              "         'variant': 'Madrid'}],\n",
              "       'text': 'love@V'}],\n",
              "     'score_tag': 'P+',\n",
              "     'segment_type': 'main',\n",
              "     'text': 'I also love Madrid'}],\n",
              "   'sentimented_concept_list': [{'form': 'city',\n",
              "     'id': '817857ee40',\n",
              "     'score_tag': 'P+',\n",
              "     'type': 'Top>Location>GeoPoliticalEntity>City'}],\n",
              "   'sentimented_entity_list': [{'form': 'London',\n",
              "     'id': '01d0d69c7d',\n",
              "     'score_tag': 'P+',\n",
              "     'type': 'Top>Location>GeoPoliticalEntity>City'},\n",
              "    {'form': 'Madrid',\n",
              "     'id': '3d0a16c68d',\n",
              "     'score_tag': 'P+',\n",
              "     'type': 'Top>Location>GeoPoliticalEntity>City'}],\n",
              "   'text': 'London is a very nice city but I also love Madrid.'}],\n",
              " 'sentimented_concept_list': [{'form': 'city',\n",
              "   'id': '817857ee40',\n",
              "   'score_tag': 'P+',\n",
              "   'type': 'Top>Location>GeoPoliticalEntity>City'}],\n",
              " 'sentimented_entity_list': [{'form': 'London',\n",
              "   'id': '01d0d69c7d',\n",
              "   'score_tag': 'P+',\n",
              "   'type': 'Top>Location>GeoPoliticalEntity>City'},\n",
              "  {'form': 'Madrid',\n",
              "   'id': '3d0a16c68d',\n",
              "   'score_tag': 'P+',\n",
              "   'type': 'Top>Location>GeoPoliticalEntity>City'}],\n",
              " 'status': {'code': '0',\n",
              "  'credits': '1',\n",
              "  'msg': 'OK',\n",
              "  'remaining_credits': '19833'},\n",
              " 'subjectivity': 'SUBJECTIVE'}"
            ]
          },
          "metadata": {
            "tags": []
          },
          "execution_count": 7
        }
      ]
    },
    {
      "cell_type": "markdown",
      "metadata": {
        "id": "L_o8pjPB8MJT"
      },
      "source": [
        "Vamos a analizar el objeto respuesta con Pandas"
      ]
    },
    {
      "cell_type": "code",
      "metadata": {
        "id": "rXPQtSt48EtM",
        "outputId": "50a5be87-91b1-4ac8-8c1e-ba4764a1ada5",
        "colab": {
          "base_uri": "https://localhost:8080/",
          "height": 190
        }
      },
      "source": [
        "import pandas as pd \n",
        "\n",
        "\n",
        "for key, value in sentiment_response.getResults().items():\n",
        "     print(key, '->', value)\n"
      ],
      "execution_count": null,
      "outputs": [
        {
          "output_type": "stream",
          "text": [
            "model -> general_en\n",
            "score_tag -> P+\n",
            "agreement -> AGREEMENT\n",
            "subjectivity -> SUBJECTIVE\n",
            "confidence -> 98\n",
            "irony -> NONIRONIC\n",
            "sentence_list -> [{'text': 'London is a very nice city but I also love Madrid.', 'inip': '0', 'endp': '49', 'bop': 'y', 'confidence': '98', 'score_tag': 'P+', 'agreement': 'AGREEMENT', 'segment_list': [{'text': 'London is a very nice city', 'segment_type': 'main', 'inip': '0', 'endp': '25', 'confidence': '98', 'score_tag': 'P+', 'agreement': 'AGREEMENT', 'polarity_term_list': [{'text': '(very) nice', 'inip': '17', 'endp': '20', 'confidence': '98', 'score_tag': 'P+', 'sentimented_entity_list': [{'form': 'London', 'id': '01d0d69c7d', 'variant': 'London', 'inip': '0', 'endp': '5', 'type': 'Top>Location>GeoPoliticalEntity>City', 'score_tag': 'P+'}], 'sentimented_concept_list': [{'form': 'city', 'id': '817857ee40', 'variant': 'city', 'inip': '22', 'endp': '25', 'type': 'Top>Location>GeoPoliticalEntity>City', 'score_tag': 'P+'}]}]}, {'text': 'I also love Madrid', 'segment_type': 'main', 'inip': '31', 'endp': '48', 'confidence': '100', 'score_tag': 'P+', 'agreement': 'AGREEMENT', 'polarity_term_list': [{'text': 'love@V', 'inip': '38', 'endp': '41', 'confidence': '100', 'score_tag': 'P+', 'sentimented_entity_list': [{'form': 'Madrid', 'id': '3d0a16c68d', 'variant': 'Madrid', 'inip': '43', 'endp': '48', 'type': 'Top>Location>GeoPoliticalEntity>City', 'score_tag': 'P+'}]}]}], 'sentimented_entity_list': [{'form': 'London', 'id': '01d0d69c7d', 'type': 'Top>Location>GeoPoliticalEntity>City', 'score_tag': 'P+'}, {'form': 'Madrid', 'id': '3d0a16c68d', 'type': 'Top>Location>GeoPoliticalEntity>City', 'score_tag': 'P+'}], 'sentimented_concept_list': [{'form': 'city', 'id': '817857ee40', 'type': 'Top>Location>GeoPoliticalEntity>City', 'score_tag': 'P+'}]}]\n",
            "sentimented_entity_list -> [{'form': 'London', 'id': '01d0d69c7d', 'type': 'Top>Location>GeoPoliticalEntity>City', 'score_tag': 'P+'}, {'form': 'Madrid', 'id': '3d0a16c68d', 'type': 'Top>Location>GeoPoliticalEntity>City', 'score_tag': 'P+'}]\n",
            "sentimented_concept_list -> [{'form': 'city', 'id': '817857ee40', 'type': 'Top>Location>GeoPoliticalEntity>City', 'score_tag': 'P+'}]\n"
          ],
          "name": "stdout"
        }
      ]
    },
    {
      "cell_type": "markdown",
      "metadata": {
        "id": "AzQ3P2qO9FMH"
      },
      "source": [
        "Podemos adaptar el código del Paso 3 a la nueva función de Meaning Cloud.\n",
        "\n",
        "Recuerda completar el nombre del fichero del que lees y la llamada a la función de MeaningCloud."
      ]
    },
    {
      "cell_type": "code",
      "metadata": {
        "id": "wXjtW_018UHg",
        "outputId": "9f653a5c-ff78-412f-b4e8-993f62c5911f",
        "colab": {
          "base_uri": "https://localhost:8080/",
          "height": 190
        }
      },
      "source": [
        "import tweepy\n",
        "import pandas as pd\n",
        "import time\n",
        "\n",
        "#cargamos los datos del csv a fetched_tweets\n",
        "fetched_tweets = pd.read_csv(\"data_clean_11jun.csv\")\n",
        "\n",
        "fetched_tweets = fetched_tweets[0:30] \n",
        "print(fetched_tweets.head())\n",
        "    \n",
        "try:\n",
        "        # relacionando text con sentiment \n",
        "        sentiment_sum = {'text': [], 'sentiment': []}  \n",
        "        \n",
        "        for index, tweet in fetched_tweets.iterrows(): \n",
        "\n",
        "            sentiment_response = meaningcloud.SentimentResponse(\n",
        "            meaningcloud.SentimentRequest(license_key, lang='es', txt=tweet['Tweet'], txtf='plain').sendReq())\n",
        "            \n",
        "            #guarda en las listas sentiment_sum cada uno de los valores de parsed_tweet\n",
        "            parsed_tweet = {}\n",
        "                \n",
        "            # almacenamos texto original\n",
        "            parsed_tweet['text'] =  tweet['Tweet'] #coge sólo la columna 'Tweet'\n",
        "                \n",
        "            # almacenamos sentimiento \n",
        "            parsed_tweet['sentiment'] = sentiment_response.getGlobalScoreTag() #llama a la función get_tweet_sentiment\n",
        "                \n",
        "            #guarda en las listas sentiment_sum cada uno de los valores de parsed_tweet\n",
        "\n",
        "            sentiment_sum['text'].append(parsed_tweet['text'])\n",
        "            sentiment_sum['sentiment'].append(parsed_tweet['sentiment'])\n",
        "\n",
        "            time.sleep(1)\n",
        "\n",
        "except tweepy.TweepError as e: \n",
        "    print(\"Error : \" + str(e))     \n",
        "\n",
        "#ahora cada uno de nuestros tweets tiene una polaridad asignada\n",
        "print(sentiment_sum)"
      ],
      "execution_count": null,
      "outputs": [
        {
          "output_type": "stream",
          "text": [
            "   Unnamed: 0  ...                                              Tweet\n",
            "0           0  ...  Desde  afirman que las ayudas articuladas medi...\n",
            "1           1  ...  Participa en nuestra Asamblea General Ordinari...\n",
            "2           2  ...  Ahora que llega la  se pondrá a prueba el futu...\n",
            "3           3  ...  Más claro agua Aunque también se puede decir O...\n",
            "4           4  ...  Recopilación de medidas y normativa relacionad...\n",
            "\n",
            "[5 rows x 5 columns]\n",
            "{'text': ['Desde  afirman que las ayudas articuladas mediante el  sólo tienen una intención estética y aseg… ', 'Participa en nuestra Asamblea General Ordinaria y Electoral\\n\\nJueves 25 de junio \\n11 horas\\nAuditorio Victor Villega… ', 'Ahora que llega la  se pondrá a prueba el futuro del  La arraigadísima tradición del presen… ', 'Más claro agua Aunque también se puede decir O jugamos todos o se rompe la baraja\\nVía  ', 'Recopilación de medidas y normativa relacionadas con el  😷\\n\\nConsulta el estado de situación aquí 📲… ', 'Ayudas para  y  de  frente al \\n\\n    ', '❗️ Estas son las novedades de la  para la  de la  \\n\\n👇👇👇\\n\\n ', 'Pretzels salados rellenos con sabor miel y deliciosa salsa Sriracha La dulce miel se combina con el ajo y el sabor… ', 'La flexibilidad es la clave para volver al trabajo volver a la oficina Movilidad de los equipos trabajo flexibl… ', '📸 GALERÍA\\nReencuentros a pie de estación padres e hijos abuelos y nietos parejas separados durante casi 3 mes… ', 'OFEA Mantenimiento de Jardín 80€mes con Soluciones EGNA Limpieza en General de Locales viviendas y obra nueva… ', 'Seguimos con los motivos semanales para regresar a los restaurantes \\n🌞Comer en una terraza al sol es algo que echa… ', '🔍 Para recibir todas nuestras novedades sobre cambios legislativos durante   y más tam… ', '🎞 Con tristeza pero con esperanza de reencontrarnos todos al año que viene rememoramos cómo fue San Antonio 2019 e… ', 'Supongo que la desescalada también era que los amigos que en las primeras semanas te mandaban mensajes cada día… ', 'Un MILLÓN de euros para dar respuesta a los colectivos más vulnerables tras la COVID19   ', 'Abren el plazo para inscribir a alumnos en el Programa de      ', 'Exteriores ha lanzado CONECTA Movilidad Internacional servicio de información para  durante el… ', '💬 Buenos días ➡️ hoy jueves estamos en el  de  en su nueva ubicación de la Calle La Ribera… ', ' tiene más pedidos en los primeros diez días de junio de 2020 que en 2019  ', '✨Desinfecta superficies Limpieza con vapor\\nNueva pistola de vapor Hoover \\n1000w seco y húmedo… ', 'Las salas de conciertos navarras piden poder cerrar a la misma hora que los locales análogos del resto de comunidad… ', 'Desde el Centro de Información y Asesoramiento Joven queremos informarte de la siguiente oferta de empleo… ', 'Evitando aglomeraciones Eso si\\nLa  judicial es un despeñe ', '¿Conoces el protocolo de seguridad de  Con él queremos garantizar tu seguridad antes durante y después… ', '🙄 Hay un porcentaje de trabajo que se realiza con menos personal para ahorrar costes laborales y obtener mas benef… ', 'Santiago más dispuesta que nunca a celebrar su Año Santo con antelación  ', '❗ \\n\\n👉 Galicia podría ser la primera comunidad en alcanzar la nueva normalidad\\n\\n', '        ', '✍️🏻Nueva entrada en el  de José Luis Pedreira Massa  Del funcionamiento mental y sus consecuencias durante l… '], 'sentiment': ['P', 'P', 'NONE', 'NEU', 'N', 'NONE', 'NONE', 'P+', 'P', 'NONE', 'P', 'NONE', 'NONE', 'NEU', 'P', 'N', 'NONE', 'N', 'P', 'NONE', 'NEU', 'N', 'P', 'N+', 'P', 'P', 'N', 'P', '', 'NONE']}\n"
          ],
          "name": "stdout"
        }
      ]
    },
    {
      "cell_type": "markdown",
      "metadata": {
        "id": "E3ZLR2vW8swa"
      },
      "source": [
        "Ahora vamos a añadir la columna 'Sentiment' al DataFrame inicial y vamos a volcar todo el contenido a un nuevo fichero CSV"
      ]
    },
    {
      "cell_type": "code",
      "metadata": {
        "id": "vnx3aPFy8jFG"
      },
      "source": [
        "df2 = fetched_tweets.assign(sentiment = sentiment_sum['sentiment']) \n",
        "df2.to_csv(path_or_buf = \"tweet_sentiment.csv\", encoding=\"utf-8\")"
      ],
      "execution_count": null,
      "outputs": []
    },
    {
      "cell_type": "code",
      "metadata": {
        "id": "cyftmdwsmdEI",
        "outputId": "66b7e9b7-e087-4736-dd8f-481427eef74b",
        "colab": {
          "base_uri": "https://localhost:8080/",
          "height": 669
        }
      },
      "source": [
        "df2.head(20)"
      ],
      "execution_count": null,
      "outputs": [
        {
          "output_type": "execute_result",
          "data": {
            "text/html": [
              "<div>\n",
              "<style scoped>\n",
              "    .dataframe tbody tr th:only-of-type {\n",
              "        vertical-align: middle;\n",
              "    }\n",
              "\n",
              "    .dataframe tbody tr th {\n",
              "        vertical-align: top;\n",
              "    }\n",
              "\n",
              "    .dataframe thead th {\n",
              "        text-align: right;\n",
              "    }\n",
              "</style>\n",
              "<table border=\"1\" class=\"dataframe\">\n",
              "  <thead>\n",
              "    <tr style=\"text-align: right;\">\n",
              "      <th></th>\n",
              "      <th>Unnamed: 0</th>\n",
              "      <th>Created_at</th>\n",
              "      <th>User_name</th>\n",
              "      <th>Location</th>\n",
              "      <th>Tweet</th>\n",
              "      <th>sentiment</th>\n",
              "    </tr>\n",
              "  </thead>\n",
              "  <tbody>\n",
              "    <tr>\n",
              "      <th>0</th>\n",
              "      <td>0</td>\n",
              "      <td>2020-06-11 10:11:27</td>\n",
              "      <td>elfaradio</td>\n",
              "      <td>NaN</td>\n",
              "      <td>Desde  afirman que las ayudas articuladas medi...</td>\n",
              "      <td>P</td>\n",
              "    </tr>\n",
              "    <tr>\n",
              "      <th>1</th>\n",
              "      <td>1</td>\n",
              "      <td>2020-06-11 10:10:04</td>\n",
              "      <td>AJERegionMurcia</td>\n",
              "      <td>Región de Murcia</td>\n",
              "      <td>Participa en nuestra Asamblea General Ordinari...</td>\n",
              "      <td>P</td>\n",
              "    </tr>\n",
              "    <tr>\n",
              "      <th>2</th>\n",
              "      <td>2</td>\n",
              "      <td>2020-06-11 10:09:18</td>\n",
              "      <td>FernandoM_Badas</td>\n",
              "      <td>Madrid, Comunidad de Madrid</td>\n",
              "      <td>Ahora que llega la  se pondrá a prueba el futu...</td>\n",
              "      <td>NONE</td>\n",
              "    </tr>\n",
              "    <tr>\n",
              "      <th>3</th>\n",
              "      <td>3</td>\n",
              "      <td>2020-06-11 10:05:29</td>\n",
              "      <td>mr_nac</td>\n",
              "      <td>Burgos</td>\n",
              "      <td>Más claro agua Aunque también se puede decir O...</td>\n",
              "      <td>NEU</td>\n",
              "    </tr>\n",
              "    <tr>\n",
              "      <th>4</th>\n",
              "      <td>4</td>\n",
              "      <td>2020-06-11 10:05:21</td>\n",
              "      <td>camaravalencia</td>\n",
              "      <td>Valencia, España</td>\n",
              "      <td>Recopilación de medidas y normativa relacionad...</td>\n",
              "      <td>N</td>\n",
              "    </tr>\n",
              "    <tr>\n",
              "      <th>5</th>\n",
              "      <td>5</td>\n",
              "      <td>2020-06-11 10:04:07</td>\n",
              "      <td>pyrasesores</td>\n",
              "      <td>Palma de Mallorca</td>\n",
              "      <td>Ayudas para  y  de  frente al \\n\\n</td>\n",
              "      <td>NONE</td>\n",
              "    </tr>\n",
              "    <tr>\n",
              "      <th>6</th>\n",
              "      <td>6</td>\n",
              "      <td>2020-06-11 10:01:11</td>\n",
              "      <td>centrobuendia</td>\n",
              "      <td>Universidad de Valladolid</td>\n",
              "      <td>❗️ Estas son las novedades de la  para la  de ...</td>\n",
              "      <td>NONE</td>\n",
              "    </tr>\n",
              "    <tr>\n",
              "      <th>7</th>\n",
              "      <td>7</td>\n",
              "      <td>2020-06-11 10:00:26</td>\n",
              "      <td>LocuraFood</td>\n",
              "      <td>NaN</td>\n",
              "      <td>Pretzels salados rellenos con sabor miel y del...</td>\n",
              "      <td>P+</td>\n",
              "    </tr>\n",
              "    <tr>\n",
              "      <th>8</th>\n",
              "      <td>8</td>\n",
              "      <td>2020-06-11 10:00:20</td>\n",
              "      <td>vivendibc</td>\n",
              "      <td>c. París, 45-47, entlo. 3ª. 08</td>\n",
              "      <td>La flexibilidad es la clave para volver al tra...</td>\n",
              "      <td>P</td>\n",
              "    </tr>\n",
              "    <tr>\n",
              "      <th>9</th>\n",
              "      <td>9</td>\n",
              "      <td>2020-06-11 10:00:17</td>\n",
              "      <td>FaroPontevedra</td>\n",
              "      <td>Pontevedra, Galicia</td>\n",
              "      <td>📸 GALERÍA\\nReencuentros a pie de estación padr...</td>\n",
              "      <td>NONE</td>\n",
              "    </tr>\n",
              "    <tr>\n",
              "      <th>10</th>\n",
              "      <td>10</td>\n",
              "      <td>2020-06-11 10:00:00</td>\n",
              "      <td>publiz_es</td>\n",
              "      <td>Madrid . 644 44 99 64</td>\n",
              "      <td>OFEA Mantenimiento de Jardín 80€mes con Soluci...</td>\n",
              "      <td>P</td>\n",
              "    </tr>\n",
              "    <tr>\n",
              "      <th>11</th>\n",
              "      <td>11</td>\n",
              "      <td>2020-06-11 09:59:55</td>\n",
              "      <td>DeMerluza</td>\n",
              "      <td>Viveiro, Spain</td>\n",
              "      <td>Seguimos con los motivos semanales para regres...</td>\n",
              "      <td>NONE</td>\n",
              "    </tr>\n",
              "    <tr>\n",
              "      <th>12</th>\n",
              "      <td>12</td>\n",
              "      <td>2020-06-11 09:59:52</td>\n",
              "      <td>civio</td>\n",
              "      <td>NaN</td>\n",
              "      <td>🔍 Para recibir todas nuestras novedades sobre ...</td>\n",
              "      <td>NONE</td>\n",
              "    </tr>\n",
              "    <tr>\n",
              "      <th>13</th>\n",
              "      <td>13</td>\n",
              "      <td>2020-06-11 09:59:29</td>\n",
              "      <td>portalrubioesms</td>\n",
              "      <td>portalrubio de guadamejud</td>\n",
              "      <td>🎞 Con tristeza pero con esperanza de reencontr...</td>\n",
              "      <td>NEU</td>\n",
              "    </tr>\n",
              "    <tr>\n",
              "      <th>14</th>\n",
              "      <td>14</td>\n",
              "      <td>2020-06-11 09:59:14</td>\n",
              "      <td>Oliver_VJ</td>\n",
              "      <td>Ciudadano del Mundo.</td>\n",
              "      <td>Supongo que la desescalada también era que los...</td>\n",
              "      <td>P</td>\n",
              "    </tr>\n",
              "    <tr>\n",
              "      <th>15</th>\n",
              "      <td>15</td>\n",
              "      <td>2020-06-11 09:57:53</td>\n",
              "      <td>ElTimeLaPalma</td>\n",
              "      <td>Isla de La Palma</td>\n",
              "      <td>Un MILLÓN de euros para dar respuesta a los co...</td>\n",
              "      <td>N</td>\n",
              "    </tr>\n",
              "    <tr>\n",
              "      <th>16</th>\n",
              "      <td>16</td>\n",
              "      <td>2020-06-11 09:47:45</td>\n",
              "      <td>CadizBN</td>\n",
              "      <td>Cádiz</td>\n",
              "      <td>Abren el plazo para inscribir a alumnos en el ...</td>\n",
              "      <td>NONE</td>\n",
              "    </tr>\n",
              "    <tr>\n",
              "      <th>17</th>\n",
              "      <td>17</td>\n",
              "      <td>2020-06-11 09:45:41</td>\n",
              "      <td>DinersClubSpain</td>\n",
              "      <td>Pozuelo de Alarcón, Madrid.</td>\n",
              "      <td>Exteriores ha lanzado CONECTA Movilidad Intern...</td>\n",
              "      <td>N</td>\n",
              "    </tr>\n",
              "    <tr>\n",
              "      <th>18</th>\n",
              "      <td>18</td>\n",
              "      <td>2020-06-11 09:45:09</td>\n",
              "      <td>Lucioquesosyemb</td>\n",
              "      <td>Vidanes, León, España</td>\n",
              "      <td>💬 Buenos días ➡️ hoy jueves estamos en el  de ...</td>\n",
              "      <td>P</td>\n",
              "    </tr>\n",
              "    <tr>\n",
              "      <th>19</th>\n",
              "      <td>19</td>\n",
              "      <td>2020-06-11 09:44:16</td>\n",
              "      <td>AdalidMotor</td>\n",
              "      <td>Valencia, España</td>\n",
              "      <td>tiene más pedidos en los primeros diez días d...</td>\n",
              "      <td>NONE</td>\n",
              "    </tr>\n",
              "  </tbody>\n",
              "</table>\n",
              "</div>"
            ],
            "text/plain": [
              "    Unnamed: 0  ... sentiment\n",
              "0            0  ...         P\n",
              "1            1  ...         P\n",
              "2            2  ...      NONE\n",
              "3            3  ...       NEU\n",
              "4            4  ...         N\n",
              "5            5  ...      NONE\n",
              "6            6  ...      NONE\n",
              "7            7  ...        P+\n",
              "8            8  ...         P\n",
              "9            9  ...      NONE\n",
              "10          10  ...         P\n",
              "11          11  ...      NONE\n",
              "12          12  ...      NONE\n",
              "13          13  ...       NEU\n",
              "14          14  ...         P\n",
              "15          15  ...         N\n",
              "16          16  ...      NONE\n",
              "17          17  ...         N\n",
              "18          18  ...         P\n",
              "19          19  ...      NONE\n",
              "\n",
              "[20 rows x 6 columns]"
            ]
          },
          "metadata": {
            "tags": []
          },
          "execution_count": 11
        }
      ]
    },
    {
      "cell_type": "markdown",
      "metadata": {
        "id": "hzAlX3RT9DwH"
      },
      "source": [
        "MeaningCloud también posee extracción de *topics* más comunes así como detección automática del idioma o clusterización"
      ]
    },
    {
      "cell_type": "code",
      "metadata": {
        "id": "qcq-bWgT8DnT"
      },
      "source": [
        "text = 'London is a very nice city but I also love Madrid.'\n",
        "\n",
        "try:\n",
        "    # We are going to make a request to the Topics Extraction API\n",
        "    topics_response = meaningcloud.TopicsResponse(meaningcloud.TopicsRequest(license_key, txt=text, lang='en',\n",
        "                                                                             topicType='e').sendReq())\n",
        "\n",
        "    # If there are no errors in the request, we print the output\n",
        "    if topics_response.isSuccessful():\n",
        "        print(\"\\nThe request to 'Topics Extraction' finished successfully!\\n\")\n",
        "\n",
        "        entities = topics_response.getEntities()\n",
        "        if entities:\n",
        "            print(\"\\tEntities detected (\" + str(len(entities)) + \"):\\n\")\n",
        "            for entity in entities:\n",
        "                print(\"\\t\\t\" + topics_response.getTopicForm(entity) + ' --> ' +\n",
        "                      topics_response.getTypeLastNode(topics_response.getOntoType(entity)) + \"\\n\")\n",
        "\n",
        "        else:\n",
        "            print(\"\\tNo entities detected!\\n\")\n",
        "    else:\n",
        "        if topics_response.getResponse() is None:\n",
        "            print(\"\\nOh no! The request sent did not return a Json\\n\")\n",
        "        else:\n",
        "            print(\"\\nOh no! There was the following error: \" + topics_response.getStatusMsg() + \"\\n\")\n",
        "\n",
        " \n",
        "\n",
        "except ValueError:\n",
        "    e = sys.exc_info()[0]\n",
        "    print(\"\\nException: \" + str(e))"
      ],
      "execution_count": null,
      "outputs": []
    }
  ]
}